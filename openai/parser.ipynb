{
 "cells": [
  {
   "cell_type": "code",
   "execution_count": 29,
   "metadata": {},
   "outputs": [],
   "source": [
    "from langchain.prompts import ChatPromptTemplate"
   ]
  },
  {
   "cell_type": "code",
   "execution_count": 30,
   "metadata": {},
   "outputs": [],
   "source": [
    "template = \"\"\"You are the dedicated content creator and skilled social media marketer for our company. \n",
    "                            In this dynamic role, your responsibility encompasses crafting top-notch content within the realm of topic, \n",
    "                            all while maintaining an ingenious, professional, and captivating tone. Your role includes creating a compelling content strategy, \n",
    "                            engaging with our audience, leveraging trends, analyzing insights, and staying at the forefront of industry trends to ensure our brand's online presence flourishes. \n",
    "                            Your content will not only resonate deeply with our target audience but also drive impactful results across diverse platforms.\n",
    "                            So create content on this topic `{topic}` with `{tone}` tone and your goal is for target Audience .\n",
    "\n",
    "                            \n",
    "                            \"\"\""
   ]
  },
  {
   "cell_type": "code",
   "execution_count": 31,
   "metadata": {},
   "outputs": [
    {
     "data": {
      "text/plain": [
       "ChatPromptTemplate(input_variables=['tone', 'topic'], output_parser=None, partial_variables={}, messages=[HumanMessagePromptTemplate(prompt=PromptTemplate(input_variables=['tone', 'topic'], output_parser=None, partial_variables={}, template=\"You are the dedicated content creator and skilled social media marketer for our company. \\n                            In this dynamic role, your responsibility encompasses crafting top-notch content within the realm of topic, \\n                            all while maintaining an ingenious, professional, and captivating tone. Your role includes creating a compelling content strategy, \\n                            engaging with our audience, leveraging trends, analyzing insights, and staying at the forefront of industry trends to ensure our brand's online presence flourishes. \\n                            Your content will not only resonate deeply with our target audience but also drive impactful results across diverse platforms.\\n                            So create content on this topic `{topic}` with `{tone}` tone and your goal is for target Audience .\\n\\n                            \\n                            \", template_format='f-string', validate_template=True), additional_kwargs={})])"
      ]
     },
     "execution_count": 31,
     "metadata": {},
     "output_type": "execute_result"
    }
   ],
   "source": [
    "prompt_template = ChatPromptTemplate.from_template(template)\n",
    "prompt_template"
   ]
  },
  {
   "cell_type": "code",
   "execution_count": 32,
   "metadata": {},
   "outputs": [
    {
     "data": {
      "text/plain": [
       "[HumanMessage(content=\"You are the dedicated content creator and skilled social media marketer for our company. \\n                            In this dynamic role, your responsibility encompasses crafting top-notch content within the realm of topic, \\n                            all while maintaining an ingenious, professional, and captivating tone. Your role includes creating a compelling content strategy, \\n                            engaging with our audience, leveraging trends, analyzing insights, and staying at the forefront of industry trends to ensure our brand's online presence flourishes. \\n                            Your content will not only resonate deeply with our target audience but also drive impactful results across diverse platforms.\\n                            So create content on this topic `how to start learn machine learning as beginner` with `education` tone and your goal is for target Audience .\\n\\n                            \\n                            \", additional_kwargs={}, example=False)]"
      ]
     },
     "execution_count": 32,
     "metadata": {},
     "output_type": "execute_result"
    }
   ],
   "source": [
    "messages = prompt_template.format_messages(topic='how to start learn machine learning as beginner', tone='education')\n",
    "messages"
   ]
  },
  {
   "cell_type": "code",
   "execution_count": 51,
   "metadata": {},
   "outputs": [],
   "source": [
    "from langchain.output_parsers import ResponseSchema, StructuredOutputParser"
   ]
  },
  {
   "cell_type": "code",
   "execution_count": 52,
   "metadata": {},
   "outputs": [
    {
     "data": {
      "text/plain": [
       "[ResponseSchema(name='script', description='this is the right script of this contetnt.', type='string'),\n",
       " ResponseSchema(name='heading', description='this is the heading.', type='string'),\n",
       " ResponseSchema(name='body', description='this is the body of this content', type='string')]"
      ]
     },
     "execution_count": 52,
     "metadata": {},
     "output_type": "execute_result"
    }
   ],
   "source": [
    "content_schema = ResponseSchema(name = 'script', description = 'this is the right script of this contetnt.')\n",
    "heading_schema = ResponseSchema(name = 'heading',  description = 'this is the heading.')\n",
    "body_schema = ResponseSchema(name = 'body', description = 'this is the body of this content')\n",
    "\n",
    "response_schema = [ content_schema, heading_schema, body_schema ]\n",
    "response_schema"
   ]
  },
  {
   "cell_type": "code",
   "execution_count": 53,
   "metadata": {},
   "outputs": [
    {
     "data": {
      "text/plain": [
       "StructuredOutputParser(response_schemas=[ResponseSchema(name='script', description='this is the right script of this contetnt.', type='string'), ResponseSchema(name='heading', description='this is the heading.', type='string'), ResponseSchema(name='body', description='this is the body of this content', type='string')])"
      ]
     },
     "execution_count": 53,
     "metadata": {},
     "output_type": "execute_result"
    }
   ],
   "source": [
    "output_parser = StructuredOutputParser.from_response_schemas(response_schemas=response_schema)\n",
    "output_parser"
   ]
  },
  {
   "cell_type": "code",
   "execution_count": 36,
   "metadata": {},
   "outputs": [],
   "source": [
    "format_instructions = output_parser.get_format_instructions()"
   ]
  },
  {
   "cell_type": "code",
   "execution_count": 9,
   "metadata": {},
   "outputs": [],
   "source": [
    "template2 = \"\"\"You are the dedicated content creator and skilled social media marketer for our company. \n",
    "                            In this dynamic role, your responsibility encompasses crafting top-notch content within the realm of topic, \n",
    "                            all while maintaining an ingenious, professional, and captivating tone. Your role includes creating a compelling content strategy, \n",
    "                            engaging with our audience, leveraging trends, analyzing insights, and staying at the forefront of industry trends to ensure our brand's online presence flourishes. \n",
    "                            Your content will not only resonate deeply with our target audience but also drive impactful results across diverse platforms.\n",
    "                            So create content on this topic `{topic}` with `{tone}` tone and your goal is for target Audience .\n",
    "{format_instructions}\n",
    "                            \n",
    "                            \"\"\""
   ]
  },
  {
   "cell_type": "code",
   "execution_count": 10,
   "metadata": {},
   "outputs": [],
   "source": [
    "prompt_template2 = ChatPromptTemplate.from_template(template2)"
   ]
  },
  {
   "cell_type": "code",
   "execution_count": 11,
   "metadata": {},
   "outputs": [],
   "source": [
    "# lets check the format of template\n",
    "messages2 = prompt_template2.format_messages(topic='how to start learn machine learning as beginner', tone='education', format_instructions=format_instructions)"
   ]
  },
  {
   "cell_type": "code",
   "execution_count": 12,
   "metadata": {},
   "outputs": [
    {
     "name": "stdout",
     "output_type": "stream",
     "text": [
      "You are the dedicated content creator and skilled social media marketer for our company. \n",
      "                            In this dynamic role, your responsibility encompasses crafting top-notch content within the realm of topic, \n",
      "                            all while maintaining an ingenious, professional, and captivating tone. Your role includes creating a compelling content strategy, \n",
      "                            engaging with our audience, leveraging trends, analyzing insights, and staying at the forefront of industry trends to ensure our brand's online presence flourishes. \n",
      "                            Your content will not only resonate deeply with our target audience but also drive impactful results across diverse platforms.\n",
      "                            So create content on this topic `how to start learn machine learning as beginner` with `education` tone and your goal is for target Audience .\n",
      "The output should be a markdown code snippet formatted in the following schema, including the leading and trailing \"```json\" and \"```\":\n",
      "\n",
      "```json\n",
      "{\n",
      "\t\"script\": string  // this is the right script of this contetnt.\n",
      "\t\"heading\": string  // this is the heading.\n",
      "\t\"body\": string  // this is the body of this content\n",
      "}\n",
      "```\n",
      "                            \n",
      "                            \n"
     ]
    }
   ],
   "source": [
    "print(messages2[0].content)"
   ]
  },
  {
   "cell_type": "markdown",
   "metadata": {},
   "source": [
    "### ChatGPT llm"
   ]
  },
  {
   "cell_type": "code",
   "execution_count": 37,
   "metadata": {},
   "outputs": [],
   "source": [
    "import os\n",
    "from langchain.chat_models import ChatOpenAI\n",
    "OPENAI_KEY = os.environ.get('OPENAI_KEY')\n",
    "chat_llm = ChatOpenAI(temperature=0.7, openai_api_key=OPENAI_KEY)"
   ]
  },
  {
   "cell_type": "code",
   "execution_count": 38,
   "metadata": {},
   "outputs": [],
   "source": [
    "response = chat_llm(messages2)"
   ]
  },
  {
   "cell_type": "code",
   "execution_count": 40,
   "metadata": {},
   "outputs": [
    {
     "data": {
      "text/plain": [
       "AIMessage(content='```json\\n{\\n\\t\"script\": \"Aspiring to learn machine learning as a beginner? Here\\'s where to start!\",\\n\\t\"heading\": \"How to Start Learning Machine Learning as a Beginner\",\\n\\t\"body\": \"If you\\'re interested in diving into the exciting world of machine learning but don\\'t know where to begin, you\\'ve come to the right place. Machine learning is a rapidly growing field that combines computer science and statistics to enable computers to learn from data and make predictions or decisions without being explicitly programmed. Here are some steps to help you get started:\\\\n\\\\n1. Gain a strong foundation in mathematics and programming: Machine learning relies heavily on mathematical concepts such as linear algebra, calculus, and probability theory. It\\'s essential to have a solid understanding of these subjects. Additionally, programming languages like Python and R are widely used in machine learning, so familiarize yourself with these languages.\\\\n\\\\n2. Learn the basics of statistics and data analysis: Machine learning algorithms are built upon statistical principles. Understanding concepts like hypothesis testing, regression analysis, and probability distributions will provide a solid groundwork for diving deeper into machine learning.\\\\n\\\\n3. Take online courses and tutorials: There are numerous online platforms that offer courses and tutorials specifically designed for beginners in machine learning. Websites like Coursera, edX, and Udemy provide comprehensive and interactive courses taught by industry experts.\\\\n\\\\n4. Practice with real-world datasets: To truly grasp the concepts of machine learning, it\\'s crucial to apply your knowledge to real-world datasets. Kaggle is a popular platform that hosts machine learning competitions and provides a wide range of datasets to practice with.\\\\n\\\\n5. Join online communities and forums: Engaging with like-minded individuals can be extremely beneficial when learning machine learning. Join online communities, such as the Machine Learning subreddit or the Kaggle forum, where you can ask questions, share ideas, and learn from others\\' experiences.\\\\n\\\\n6. Dive into machine learning libraries and frameworks: Python libraries like scikit-learn, TensorFlow, and Keras offer powerful tools and frameworks for implementing machine learning algorithms. Familiarize yourself with these libraries and start experimenting with coding your own models.\\\\n\\\\nRemember, learning machine learning is a journey that requires dedication and continuous learning. Be patient with yourself, and don\\'t be afraid to make mistakes. With practice and perseverance, you\\'ll be well on your way to becoming a proficient machine learning practitioner.\"\\n}\\n```', additional_kwargs={}, example=False)"
      ]
     },
     "execution_count": 40,
     "metadata": {},
     "output_type": "execute_result"
    }
   ],
   "source": [
    "response"
   ]
  },
  {
   "cell_type": "code",
   "execution_count": 41,
   "metadata": {},
   "outputs": [],
   "source": [
    "response_as_dict = output_parser.parse(response.content)"
   ]
  },
  {
   "cell_type": "code",
   "execution_count": 42,
   "metadata": {},
   "outputs": [
    {
     "data": {
      "text/plain": [
       "dict"
      ]
     },
     "execution_count": 42,
     "metadata": {},
     "output_type": "execute_result"
    }
   ],
   "source": [
    "type(response_as_dict)"
   ]
  },
  {
   "cell_type": "markdown",
   "metadata": {},
   "source": [
    "### Creating a chain"
   ]
  },
  {
   "cell_type": "code",
   "execution_count": 59,
   "metadata": {},
   "outputs": [],
   "source": [
    "from langchain.prompts import PromptTemplate, ChatPromptTemplate, HumanMessagePromptTemplate\n",
    "prompt = ChatPromptTemplate(\n",
    "    messages = [ HumanMessagePromptTemplate.from_template(template=template2) ],\n",
    "    input_variables=['topic', 'tone'],\n",
    "    partial_variables={'format_instructions': format_instructions},\n",
    "    output_parser=output_parser\n",
    "\n",
    ")"
   ]
  },
  {
   "cell_type": "code",
   "execution_count": 60,
   "metadata": {},
   "outputs": [
    {
     "data": {
      "text/plain": [
       "[HumanMessagePromptTemplate(prompt=PromptTemplate(input_variables=['format_instructions', 'tone', 'topic'], output_parser=None, partial_variables={}, template=\"You are the dedicated content creator and skilled social media marketer for our company. \\n                            In this dynamic role, your responsibility encompasses crafting top-notch content within the realm of topic, \\n                            all while maintaining an ingenious, professional, and captivating tone. Your role includes creating a compelling content strategy, \\n                            engaging with our audience, leveraging trends, analyzing insights, and staying at the forefront of industry trends to ensure our brand's online presence flourishes. \\n                            Your content will not only resonate deeply with our target audience but also drive impactful results across diverse platforms.\\n                            So create content on this topic `{topic}` with `{tone}` tone and your goal is for target Audience .\\n{format_instructions}\\n                            \\n                            \", template_format='f-string', validate_template=True), additional_kwargs={})]"
      ]
     },
     "execution_count": 60,
     "metadata": {},
     "output_type": "execute_result"
    }
   ],
   "source": [
    "prompt.messages"
   ]
  },
  {
   "cell_type": "code",
   "execution_count": 61,
   "metadata": {},
   "outputs": [
    {
     "name": "stdout",
     "output_type": "stream",
     "text": [
      "Human: You are the dedicated content creator and skilled social media marketer for our company. \n",
      "                            In this dynamic role, your responsibility encompasses crafting top-notch content within the realm of topic, \n",
      "                            all while maintaining an ingenious, professional, and captivating tone. Your role includes creating a compelling content strategy, \n",
      "                            engaging with our audience, leveraging trends, analyzing insights, and staying at the forefront of industry trends to ensure our brand's online presence flourishes. \n",
      "                            Your content will not only resonate deeply with our target audience but also drive impactful results across diverse platforms.\n",
      "                            So create content on this topic `start a online business in 2023` with `information` tone and your goal is for target Audience .\n",
      "The output should be a markdown code snippet formatted in the following schema, including the leading and trailing \"```json\" and \"```\":\n",
      "\n",
      "```json\n",
      "{\n",
      "\t\"script\": string  // this is the right script of this contetnt.\n",
      "\t\"heading\": string  // this is the heading.\n",
      "\t\"body\": string  // this is the body of this content\n",
      "}\n",
      "```\n",
      "                            \n",
      "                            \n"
     ]
    }
   ],
   "source": [
    "print(prompt.format(topic=\"start a online business in 2023\", tone=\"information\"))"
   ]
  },
  {
   "cell_type": "code",
   "execution_count": 62,
   "metadata": {},
   "outputs": [],
   "source": [
    "from langchain.chains import LLMChain"
   ]
  },
  {
   "cell_type": "code",
   "execution_count": 63,
   "metadata": {},
   "outputs": [
    {
     "name": "stderr",
     "output_type": "stream",
     "text": [
      "/home/codespace/.python/current/lib/python3.10/site-packages/langchain/chains/llm.py:279: UserWarning: The predict_and_parse method is deprecated, instead pass an output parser directly to LLMChain.\n",
      "  warnings.warn(\n"
     ]
    },
    {
     "data": {
      "text/plain": [
       "{'script': \"Are you considering starting an online business in 2023? Here's everything you need to know!\",\n",
       " 'heading': 'Start an Online Business in 2023',\n",
       " 'body': \"If you've been contemplating starting your own online business, 2023 could be the perfect time to take the leap. With the ever-increasing popularity of e-commerce and the advancements in technology, starting an online business has become more accessible than ever before.\\n\\nOne of the first steps in starting an online business is to identify a profitable niche. Research different industries and trends to find a market that aligns with your interests and skills. By selecting a niche that you are passionate about, you will be more motivated to put in the necessary effort to succeed.\\n\\nOnce you have chosen your niche, it's important to create a solid business plan. Outline your goals, target audience, marketing strategies, and financial projections. A well-thought-out business plan will serve as a roadmap for your online business and increase your chances of success.\\n\\nNext, you'll need to build an online presence. This includes setting up a professional website, creating engaging content, and establishing a strong social media presence. Invest in high-quality web design and user experience to ensure that visitors have a seamless and enjoyable experience on your site.\\n\\nMarketing plays a crucial role in the success of any online business. Utilize various digital marketing techniques such as search engine optimization (SEO), social media marketing, and email marketing to attract and engage your target audience. Stay updated on the latest marketing trends and strategies to stay ahead of the competition.\\n\\nAnother important aspect of starting an online business is understanding the legal requirements. Research the necessary licenses, permits, and regulations that apply to your industry and ensure that you comply with them. Consult with a legal professional if needed to avoid any legal complications in the future.\\n\\nFinally, don't forget to continuously analyze and adapt your online business strategy. Monitor your website analytics, social media engagement, and sales data to identify areas for improvement. Stay open to feedback from your customers and make necessary changes to enhance their experience.\\n\\nStarting an online business in 2023 can be an exciting and rewarding endeavor. With the right planning, strategy, and dedication, you can create a successful online business that resonates with your target audience and drives impactful results. So, don't wait any longer. Start shaping your online business dreams today!\"}"
      ]
     },
     "execution_count": 63,
     "metadata": {},
     "output_type": "execute_result"
    }
   ],
   "source": [
    "chain = LLMChain(llm=chat_llm, prompt=prompt)\n",
    "response = chain.predict_and_parse(topic=\"start a online business in 2023\", tone=\"information\")\n",
    "response "
   ]
  },
  {
   "cell_type": "code",
   "execution_count": null,
   "metadata": {},
   "outputs": [],
   "source": []
  }
 ],
 "metadata": {
  "kernelspec": {
   "display_name": "Python 3",
   "language": "python",
   "name": "python3"
  },
  "language_info": {
   "codemirror_mode": {
    "name": "ipython",
    "version": 3
   },
   "file_extension": ".py",
   "mimetype": "text/x-python",
   "name": "python",
   "nbconvert_exporter": "python",
   "pygments_lexer": "ipython3",
   "version": "3.10.8"
  },
  "orig_nbformat": 4
 },
 "nbformat": 4,
 "nbformat_minor": 2
}
